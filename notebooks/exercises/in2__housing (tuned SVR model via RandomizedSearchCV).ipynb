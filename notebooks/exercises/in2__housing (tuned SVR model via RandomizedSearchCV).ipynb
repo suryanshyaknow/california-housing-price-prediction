{
 "cells": [
  {
   "cell_type": "code",
   "execution_count": 1,
   "id": "dcee8311",
   "metadata": {},
   "outputs": [
    {
     "name": "stderr",
     "output_type": "stream",
     "text": [
      "<frozen importlib._bootstrap>:228: RuntimeWarning: scipy._lib.messagestream.MessageStream size changed, may indicate binary incompatibility. Expected 56 from C header, got 64 from PyObject\n"
     ]
    }
   ],
   "source": [
    "import os\n",
    "import pandas as pd\n",
    "import numpy as np\n",
    "import sklearn\n",
    "\n",
    "import matplotlib.pyplot as plt\n",
    "import plotly.express as px\n",
    "import seaborn as sns\n",
    "\n",
    "from sklearn.metrics import mean_squared_error\n",
    "from scipy import stats"
   ]
  },
  {
   "cell_type": "code",
   "execution_count": 2,
   "id": "1f011ee9",
   "metadata": {},
   "outputs": [],
   "source": [
    "import warnings\n",
    "warnings.filterwarnings(\"ignore\")"
   ]
  },
  {
   "cell_type": "code",
   "execution_count": 16,
   "id": "8f3480a3",
   "metadata": {},
   "outputs": [],
   "source": [
    "## Loading the training data\n",
    "\n",
    "datasets_dir = os.path.join('artifacts', 'datasets')\n",
    "\n",
    "X_prepared = np.loadtxt(os.path.join(datasets_dir, \"X_prepared.txt\"))\n",
    "Y = pd.read_csv(os.path.join(datasets_dir, \"Y.csv\"))"
   ]
  },
  {
   "cell_type": "markdown",
   "id": "1ca0ea95",
   "metadata": {},
   "source": [
    "### 1. Trying building SVR models with kernels `linear` and `rbf` respectively, hypertuning <br><br>the params `C` and `gamma` using `RandomizedSearchCV`."
   ]
  },
  {
   "cell_type": "code",
   "execution_count": 3,
   "id": "9b573264",
   "metadata": {},
   "outputs": [],
   "source": [
    "from sklearn.model_selection import RandomizedSearchCV\n",
    "from scipy.stats import expon, reciprocal\n",
    "from sklearn.svm import SVR"
   ]
  },
  {
   "attachments": {
    "EXPON-FORM.jpg": {
     "image/jpeg": "[encoded data removed]"
    }
   },
   "cell_type": "markdown",
   "id": "a31b70c2",
   "metadata": {},
   "source": [
    "### stats.expon(): \n",
    "\n",
    "![EXPON-FORM.jpg](attachment:EXPON-FORM.jpg)\n",
    "An exponential continuous random variable"
   ]
  },
  {
   "cell_type": "code",
   "execution_count": 4,
   "id": "38d5a44a",
   "metadata": {},
   "outputs": [
    {
     "name": "stdout",
     "output_type": "stream",
     "text": [
      "Random Variates : \n",
      " [0.16766856 0.28098554 3.13562216 0.05554954 0.94170678 0.78484821\n",
      " 0.36990949 0.81198212 0.44463585 0.31218199]\n"
     ]
    }
   ],
   "source": [
    " # Random Variates\n",
    "\n",
    "R = expon.rvs(scale = 1,  size = 10)\n",
    "print (\"Random Variates : \\n\", R)"
   ]
  },
  {
   "cell_type": "code",
   "execution_count": 5,
   "id": "3f7aa375",
   "metadata": {},
   "outputs": [
    {
     "name": "stdout",
     "output_type": "stream",
     "text": [
      "\n",
      "Probability Distribution : \n",
      " [0.99004983 0.89583414 0.81058425 0.73344696 0.66365025 0.60049558\n",
      " 0.54335087 0.4916442  0.44485807 0.40252422]\n"
     ]
    }
   ],
   "source": [
    "quantile = np.arange (0.01, 1, 0.1)\n",
    "\n",
    "# PDF\n",
    "R = expon.pdf(quantile, loc = 0, scale = 1)\n",
    "print (\"\\nProbability Distribution : \\n\", R)"
   ]
  },
  {
   "cell_type": "markdown",
   "id": "3f557221",
   "metadata": {},
   "source": [
    "### stats.reciprocal()\n",
    "\n",
    "With the help of sympy.stats.Reciprocal() method, we can get the continuous random variable which represents the Reciprocal distribution."
   ]
  },
  {
   "cell_type": "code",
   "execution_count": 6,
   "id": "c10e26f3",
   "metadata": {},
   "outputs": [
    {
     "data": {
      "text/latex": [
       "$\\displaystyle \\frac{1}{z \\left(- \\log{\\left(a \\right)} + \\log{\\left(b \\right)}\\right)}$"
      ],
      "text/plain": [
       "1/(z*(-log(a) + log(b)))"
      ]
     },
     "execution_count": 6,
     "metadata": {},
     "output_type": "execute_result"
    }
   ],
   "source": [
    "# Import sympy and Reciprocal\n",
    "from sympy.stats import Reciprocal, density\n",
    "from sympy import Symbol, pprint\n",
    "  \n",
    "z = Symbol(\"z\")\n",
    "a = Symbol(\"a\", positive = True)\n",
    "b = Symbol(\"b\", positive = True)\n",
    "  \n",
    "# Using sympy.stats.Reciprocal() method\n",
    "X = Reciprocal(\"x\", a, b)\n",
    "gfg = density(X)(z)\n",
    "\n",
    "gfg"
   ]
  },
  {
   "cell_type": "code",
   "execution_count": 7,
   "id": "30a263e8",
   "metadata": {},
   "outputs": [
    {
     "name": "stdout",
     "output_type": "stream",
     "text": [
      "2.85714285714286/log(2)\n"
     ]
    }
   ],
   "source": [
    "z = 0.35\n",
    "a = 1\n",
    "b = 2\n",
    "  \n",
    "# Using sympy.stats.Reciprocal() method\n",
    "X = Reciprocal(\"x\", a, b)\n",
    "gfg = density(X)(z)\n",
    "  \n",
    "print(gfg)"
   ]
  },
  {
   "cell_type": "code",
   "execution_count": 8,
   "id": "d74e7c70",
   "metadata": {},
   "outputs": [
    {
     "data": {
      "text/latex": [
       "$\\displaystyle \\operatorname{ReciprocalDistribution}\\left(1, 2\\right)$"
      ],
      "text/plain": [
       "ReciprocalDistribution(1, 2)"
      ]
     },
     "execution_count": 8,
     "metadata": {},
     "output_type": "execute_result"
    }
   ],
   "source": [
    "a = 1\n",
    "b = 2\n",
    "  \n",
    "# Using sympy.stats.Reciprocal() method\n",
    "X = Reciprocal(\"x\", a, b)\n",
    "gfg = density(X)\n",
    "  \n",
    "gfg"
   ]
  },
  {
   "cell_type": "code",
   "execution_count": 9,
   "id": "0bf094c7",
   "metadata": {},
   "outputs": [
    {
     "data": {
      "text/latex": [
       "$\\displaystyle \\frac{2.85714285714286}{\\log{\\left(100 \\right)}}$"
      ],
      "text/plain": [
       "2.85714285714286/log(100)"
      ]
     },
     "execution_count": 9,
     "metadata": {},
     "output_type": "execute_result"
    }
   ],
   "source": [
    "a = 1\n",
    "b = 100\n",
    "\n",
    "X = Reciprocal(\"x\", a, b)\n",
    "\n",
    "gfg = density(X)(z)\n",
    "gfg"
   ]
  },
  {
   "cell_type": "markdown",
   "id": "5c1f4b6a",
   "metadata": {},
   "source": [
    "### ########################################################################\n",
    "\n",
    "## # RandomizedSearchCV:"
   ]
  },
  {
   "cell_type": "code",
   "execution_count": 10,
   "id": "200961ef",
   "metadata": {},
   "outputs": [],
   "source": [
    "from sklearn.svm import SVR"
   ]
  },
  {
   "cell_type": "code",
   "execution_count": 11,
   "id": "e6eee640",
   "metadata": {},
   "outputs": [],
   "source": [
    "### Randomized Search CV\n",
    "\n",
    "param_distribs = {\n",
    "        'kernel': ['linear', 'rbf'],\n",
    "        'C': reciprocal(20, 200000),\n",
    "        'gamma': expon(scale=1.0),\n",
    "    }\n",
    "\n",
    "svr_mod = SVR()"
   ]
  },
  {
   "cell_type": "code",
   "execution_count": 17,
   "id": "f1961771",
   "metadata": {},
   "outputs": [
    {
     "name": "stdout",
     "output_type": "stream",
     "text": [
      "Fitting 5 folds for each of 16 candidates, totalling 80 fits\n",
      "[CV 1/5] END C=629.782329591372, gamma=3.010121430917521, kernel=linear;, score=-4867569557.090 total time=  10.1s\n",
      "[CV 2/5] END C=629.782329591372, gamma=3.010121430917521, kernel=linear;, score=-4709900268.651 total time=   9.7s\n",
      "[CV 3/5] END C=629.782329591372, gamma=3.010121430917521, kernel=linear;, score=-5016057581.736 total time=   9.7s\n",
      "[CV 4/5] END C=629.782329591372, gamma=3.010121430917521, kernel=linear;, score=-5375641786.397 total time=  10.3s\n",
      "[CV 5/5] END C=629.782329591372, gamma=3.010121430917521, kernel=linear;, score=-4838236501.436 total time=   9.4s\n",
      "[CV 1/5] END C=26290.206464300216, gamma=0.9084469696321253, kernel=rbf;, score=-4277291557.719 total time=  21.5s\n",
      "[CV 2/5] END C=26290.206464300216, gamma=0.9084469696321253, kernel=rbf;, score=-4395660768.133 total time=  29.3s\n",
      "[CV 3/5] END C=26290.206464300216, gamma=0.9084469696321253, kernel=rbf;, score=-4310390444.136 total time=  22.8s\n",
      "[CV 4/5] END C=26290.206464300216, gamma=0.9084469696321253, kernel=rbf;, score=-4423150643.105 total time=  22.1s\n",
      "[CV 5/5] END C=26290.206464300216, gamma=0.9084469696321253, kernel=rbf;, score=-4723639926.376 total time=  20.7s\n",
      "[CV 1/5] END C=84.14107900575871, gamma=0.059838768608680676, kernel=rbf;, score=-10057965311.705 total time=  18.6s\n",
      "[CV 2/5] END C=84.14107900575871, gamma=0.059838768608680676, kernel=rbf;, score=-9747889946.147 total time=  18.8s\n",
      "[CV 3/5] END C=84.14107900575871, gamma=0.059838768608680676, kernel=rbf;, score=-10170032307.244 total time=  18.3s\n",
      "[CV 4/5] END C=84.14107900575871, gamma=0.059838768608680676, kernel=rbf;, score=-10262525873.602 total time=  19.4s\n",
      "[CV 5/5] END C=84.14107900575871, gamma=0.059838768608680676, kernel=rbf;, score=-10284609385.941 total time=  20.0s\n",
      "[CV 1/5] END C=432.37884813148855, gamma=0.15416196746656105, kernel=linear;, score=-4888948701.816 total time=  13.6s\n",
      "[CV 2/5] END C=432.37884813148855, gamma=0.15416196746656105, kernel=linear;, score=-4724600248.971 total time=  10.5s\n",
      "[CV 3/5] END C=432.37884813148855, gamma=0.15416196746656105, kernel=linear;, score=-5026231322.149 total time=   9.6s\n",
      "[CV 4/5] END C=432.37884813148855, gamma=0.15416196746656105, kernel=linear;, score=-5372107944.256 total time=   9.4s\n",
      "[CV 5/5] END C=432.37884813148855, gamma=0.15416196746656105, kernel=linear;, score=-4857807341.157 total time=   9.3s\n",
      "[CV 1/5] END C=24.17508294611391, gamma=3.503557475158312, kernel=rbf;, score=-14114847023.129 total time=  18.0s\n",
      "[CV 2/5] END C=24.17508294611391, gamma=3.503557475158312, kernel=rbf;, score=-13753430811.920 total time=  18.2s\n",
      "[CV 3/5] END C=24.17508294611391, gamma=3.503557475158312, kernel=rbf;, score=-14175105402.719 total time=  17.6s\n",
      "[CV 4/5] END C=24.17508294611391, gamma=3.503557475158312, kernel=rbf;, score=-14243579443.878 total time=  18.7s\n",
      "[CV 5/5] END C=24.17508294611391, gamma=3.503557475158312, kernel=rbf;, score=-14353263855.567 total time=  17.1s\n",
      "[CV 1/5] END C=113564.03940586245, gamma=0.0007790692366582295, kernel=rbf;, score=-4923349850.019 total time=  18.4s\n",
      "[CV 2/5] END C=113564.03940586245, gamma=0.0007790692366582295, kernel=rbf;, score=-4610262994.361 total time=  18.8s\n",
      "[CV 3/5] END C=113564.03940586245, gamma=0.0007790692366582295, kernel=rbf;, score=-5019195494.926 total time=  18.1s\n",
      "[CV 4/5] END C=113564.03940586245, gamma=0.0007790692366582295, kernel=rbf;, score=-5070176508.724 total time=  19.9s\n",
      "[CV 5/5] END C=113564.03940586245, gamma=0.0007790692366582295, kernel=rbf;, score=-4867318683.275 total time=  17.7s\n",
      "[CV 1/5] END C=108.30488238805073, gamma=0.3627537294604771, kernel=rbf;, score=-11726198768.142 total time=  18.2s\n",
      "[CV 2/5] END C=108.30488238805073, gamma=0.3627537294604771, kernel=rbf;, score=-11441948072.088 total time=  18.2s\n",
      "[CV 3/5] END C=108.30488238805073, gamma=0.3627537294604771, kernel=rbf;, score=-11846680514.968 total time=  18.0s\n",
      "[CV 4/5] END C=108.30488238805073, gamma=0.3627537294604771, kernel=rbf;, score=-11860574270.610 total time=  18.0s\n",
      "[CV 5/5] END C=108.30488238805073, gamma=0.3627537294604771, kernel=rbf;, score=-11996301489.867 total time=  17.6s\n",
      "[CV 1/5] END C=21.344953672647435, gamma=0.023332523598323388, kernel=linear;, score=-6039439612.153 total time=   9.2s\n",
      "[CV 2/5] END C=21.344953672647435, gamma=0.023332523598323388, kernel=linear;, score=-5751519470.135 total time=   9.7s\n",
      "[CV 3/5] END C=21.344953672647435, gamma=0.023332523598323388, kernel=linear;, score=-6048563753.439 total time=   9.7s\n",
      "[CV 4/5] END C=21.344953672647435, gamma=0.023332523598323388, kernel=linear;, score=-6247852329.112 total time=   9.1s\n",
      "[CV 5/5] END C=21.344953672647435, gamma=0.023332523598323388, kernel=linear;, score=-5969311982.279 total time=   9.4s\n",
      "[CV 1/5] END C=5603.270317432516, gamma=0.15023452872733867, kernel=rbf;, score=-3969406788.087 total time=  16.8s\n",
      "[CV 2/5] END C=5603.270317432516, gamma=0.15023452872733867, kernel=rbf;, score=-3854639292.540 total time=  17.4s\n",
      "[CV 3/5] END C=5603.270317432516, gamma=0.15023452872733867, kernel=rbf;, score=-3931434778.537 total time=  18.3s\n",
      "[CV 4/5] END C=5603.270317432516, gamma=0.15023452872733867, kernel=rbf;, score=-4076621068.772 total time=  17.8s\n",
      "[CV 5/5] END C=5603.270317432516, gamma=0.15023452872733867, kernel=rbf;, score=-3985739512.843 total time=  17.7s\n",
      "[CV 1/5] END C=157055.10989448498, gamma=0.26497040005002437, kernel=rbf;, score=-3094921635.724 total time=  38.1s\n",
      "[CV 2/5] END C=157055.10989448498, gamma=0.26497040005002437, kernel=rbf;, score=-2969310891.893 total time=  35.9s\n",
      "[CV 3/5] END C=157055.10989448498, gamma=0.26497040005002437, kernel=rbf;, score=-2956064462.172 total time=  42.1s\n",
      "[CV 4/5] END C=157055.10989448498, gamma=0.26497040005002437, kernel=rbf;, score=-3060427987.785 total time=  36.7s\n",
      "[CV 5/5] END C=157055.10989448498, gamma=0.26497040005002437, kernel=rbf;, score=-3124751401.819 total time=  42.8s\n",
      "[CV 1/5] END C=27652.464358739708, gamma=0.2227358621286903, kernel=linear;, score=-4821057481.420 total time=  14.3s\n",
      "[CV 2/5] END C=27652.464358739708, gamma=0.2227358621286903, kernel=linear;, score=-4713502222.878 total time=  15.5s\n",
      "[CV 3/5] END C=27652.464358739708, gamma=0.2227358621286903, kernel=linear;, score=-4975871234.849 total time=  14.9s\n",
      "[CV 4/5] END C=27652.464358739708, gamma=0.2227358621286903, kernel=linear;, score=-5395073119.125 total time=  16.1s\n",
      "[CV 5/5] END C=27652.464358739708, gamma=0.2227358621286903, kernel=linear;, score=-4792713183.695 total time=  15.7s\n",
      "[CV 1/5] END C=171377.39570378003, gamma=0.628789100540856, kernel=linear;, score=-4819981932.026 total time=  39.4s\n",
      "[CV 2/5] END C=171377.39570378003, gamma=0.628789100540856, kernel=linear;, score=-4713888208.193 total time=  47.8s\n",
      "[CV 3/5] END C=171377.39570378003, gamma=0.628789100540856, kernel=linear;, score=-4974463446.905 total time=  48.2s\n",
      "[CV 4/5] END C=171377.39570378003, gamma=0.628789100540856, kernel=linear;, score=-5392692341.480 total time=  48.2s\n",
      "[CV 5/5] END C=171377.39570378003, gamma=0.628789100540856, kernel=linear;, score=-4792699937.905 total time=  48.2s\n",
      "[CV 1/5] END C=5385.293820172355, gamma=0.18696125197741642, kernel=linear;, score=-4824322569.256 total time=  10.2s\n",
      "[CV 2/5] END C=5385.293820172355, gamma=0.18696125197741642, kernel=linear;, score=-4714143491.169 total time=   9.4s\n",
      "[CV 3/5] END C=5385.293820172355, gamma=0.18696125197741642, kernel=linear;, score=-4982528176.841 total time=  10.1s\n",
      "[CV 4/5] END C=5385.293820172355, gamma=0.18696125197741642, kernel=linear;, score=-5390158541.990 total time=  11.5s\n",
      "[CV 5/5] END C=5385.293820172355, gamma=0.18696125197741642, kernel=linear;, score=-4795734241.068 total time=  11.7s\n",
      "[CV 1/5] END C=22.59903216621323, gamma=2.850796878935603, kernel=rbf;, score=-14105290539.216 total time=  17.1s\n",
      "[CV 2/5] END C=22.59903216621323, gamma=2.850796878935603, kernel=rbf;, score=-13747235601.777 total time=  17.1s\n",
      "[CV 3/5] END C=22.59903216621323, gamma=2.850796878935603, kernel=rbf;, score=-14166943948.150 total time=  17.2s\n",
      "[CV 4/5] END C=22.59903216621323, gamma=2.850796878935603, kernel=rbf;, score=-14233005190.912 total time=  16.8s\n",
      "[CV 5/5] END C=22.59903216621323, gamma=2.850796878935603, kernel=rbf;, score=-14346410428.244 total time=  17.1s\n"
     ]
    },
    {
     "name": "stdout",
     "output_type": "stream",
     "text": [
      "[CV 1/5] END C=34246.75194632794, gamma=0.3632878599687583, kernel=linear;, score=-4820936345.083 total time=  16.2s\n",
      "[CV 2/5] END C=34246.75194632794, gamma=0.3632878599687583, kernel=linear;, score=-4713556013.492 total time=  15.9s\n",
      "[CV 3/5] END C=34246.75194632794, gamma=0.3632878599687583, kernel=linear;, score=-4974723381.429 total time=  18.6s\n",
      "[CV 4/5] END C=34246.75194632794, gamma=0.3632878599687583, kernel=linear;, score=-5395131624.685 total time=  15.7s\n",
      "[CV 5/5] END C=34246.75194632794, gamma=0.3632878599687583, kernel=linear;, score=-4792526519.358 total time=  17.2s\n",
      "[CV 1/5] END C=167.7278956080511, gamma=0.2757870542258224, kernel=rbf;, score=-10241333897.388 total time=  16.7s\n",
      "[CV 2/5] END C=167.7278956080511, gamma=0.2757870542258224, kernel=rbf;, score=-9999670175.918 total time=  17.3s\n",
      "[CV 3/5] END C=167.7278956080511, gamma=0.2757870542258224, kernel=rbf;, score=-10376210325.936 total time=  16.4s\n",
      "[CV 4/5] END C=167.7278956080511, gamma=0.2757870542258224, kernel=rbf;, score=-10378810993.301 total time=  17.4s\n",
      "[CV 5/5] END C=167.7278956080511, gamma=0.2757870542258224, kernel=rbf;, score=-10524997825.355 total time=  17.2s\n"
     ]
    },
    {
     "data": {
      "text/html": [
       "<style>#sk-container-id-1 {color: black;background-color: white;}#sk-container-id-1 pre{padding: 0;}#sk-container-id-1 div.sk-toggleable {background-color: white;}#sk-container-id-1 label.sk-toggleable__label {cursor: pointer;display: block;width: 100%;margin-bottom: 0;padding: 0.3em;box-sizing: border-box;text-align: center;}#sk-container-id-1 label.sk-toggleable__label-arrow:before {content: \"▸\";float: left;margin-right: 0.25em;color: #696969;}#sk-container-id-1 label.sk-toggleable__label-arrow:hover:before {color: black;}#sk-container-id-1 div.sk-estimator:hover label.sk-toggleable__label-arrow:before {color: black;}#sk-container-id-1 div.sk-toggleable__content {max-height: 0;max-width: 0;overflow: hidden;text-align: left;background-color: #f0f8ff;}#sk-container-id-1 div.sk-toggleable__content pre {margin: 0.2em;color: black;border-radius: 0.25em;background-color: #f0f8ff;}#sk-container-id-1 input.sk-toggleable__control:checked~div.sk-toggleable__content {max-height: 200px;max-width: 100%;overflow: auto;}#sk-container-id-1 input.sk-toggleable__control:checked~label.sk-toggleable__label-arrow:before {content: \"▾\";}#sk-container-id-1 div.sk-estimator input.sk-toggleable__control:checked~label.sk-toggleable__label {background-color: #d4ebff;}#sk-container-id-1 div.sk-label input.sk-toggleable__control:checked~label.sk-toggleable__label {background-color: #d4ebff;}#sk-container-id-1 input.sk-hidden--visually {border: 0;clip: rect(1px 1px 1px 1px);clip: rect(1px, 1px, 1px, 1px);height: 1px;margin: -1px;overflow: hidden;padding: 0;position: absolute;width: 1px;}#sk-container-id-1 div.sk-estimator {font-family: monospace;background-color: #f0f8ff;border: 1px dotted black;border-radius: 0.25em;box-sizing: border-box;margin-bottom: 0.5em;}#sk-container-id-1 div.sk-estimator:hover {background-color: #d4ebff;}#sk-container-id-1 div.sk-parallel-item::after {content: \"\";width: 100%;border-bottom: 1px solid gray;flex-grow: 1;}#sk-container-id-1 div.sk-label:hover label.sk-toggleable__label {background-color: #d4ebff;}#sk-container-id-1 div.sk-serial::before {content: \"\";position: absolute;border-left: 1px solid gray;box-sizing: border-box;top: 0;bottom: 0;left: 50%;z-index: 0;}#sk-container-id-1 div.sk-serial {display: flex;flex-direction: column;align-items: center;background-color: white;padding-right: 0.2em;padding-left: 0.2em;position: relative;}#sk-container-id-1 div.sk-item {position: relative;z-index: 1;}#sk-container-id-1 div.sk-parallel {display: flex;align-items: stretch;justify-content: center;background-color: white;position: relative;}#sk-container-id-1 div.sk-item::before, #sk-container-id-1 div.sk-parallel-item::before {content: \"\";position: absolute;border-left: 1px solid gray;box-sizing: border-box;top: 0;bottom: 0;left: 50%;z-index: -1;}#sk-container-id-1 div.sk-parallel-item {display: flex;flex-direction: column;z-index: 1;position: relative;background-color: white;}#sk-container-id-1 div.sk-parallel-item:first-child::after {align-self: flex-end;width: 50%;}#sk-container-id-1 div.sk-parallel-item:last-child::after {align-self: flex-start;width: 50%;}#sk-container-id-1 div.sk-parallel-item:only-child::after {width: 0;}#sk-container-id-1 div.sk-dashed-wrapped {border: 1px dashed gray;margin: 0 0.4em 0.5em 0.4em;box-sizing: border-box;padding-bottom: 0.4em;background-color: white;}#sk-container-id-1 div.sk-label label {font-family: monospace;font-weight: bold;display: inline-block;line-height: 1.2em;}#sk-container-id-1 div.sk-label-container {text-align: center;}#sk-container-id-1 div.sk-container {/* jupyter's `normalize.less` sets `[hidden] { display: none; }` but bootstrap.min.css set `[hidden] { display: none !important; }` so we also need the `!important` here to be able to override the default hidden behavior on the sphinx rendered scikit-learn.org. See: https://github.com/scikit-learn/scikit-learn/issues/21755 */display: inline-block !important;position: relative;}#sk-container-id-1 div.sk-text-repr-fallback {display: none;}</style><div id=\"sk-container-id-1\" class=\"sk-top-container\"><div class=\"sk-text-repr-fallback\"><pre>RandomizedSearchCV(cv=5, estimator=SVR(), n_iter=16,\n",
       "                   param_distributions={&#x27;C&#x27;: &lt;scipy.stats._distn_infrastructure.rv_continuous_frozen object at 0x000001F4451862B0&gt;,\n",
       "                                        &#x27;gamma&#x27;: &lt;scipy.stats._distn_infrastructure.rv_continuous_frozen object at 0x000001F44675C520&gt;,\n",
       "                                        &#x27;kernel&#x27;: [&#x27;linear&#x27;, &#x27;rbf&#x27;]},\n",
       "                   random_state=42, scoring=&#x27;neg_mean_squared_error&#x27;,\n",
       "                   verbose=3)</pre><b>In a Jupyter environment, please rerun this cell to show the HTML representation or trust the notebook. <br />On GitHub, the HTML representation is unable to render, please try loading this page with nbviewer.org.</b></div><div class=\"sk-container\" hidden><div class=\"sk-item sk-dashed-wrapped\"><div class=\"sk-label-container\"><div class=\"sk-label sk-toggleable\"><input class=\"sk-toggleable__control sk-hidden--visually\" id=\"sk-estimator-id-1\" type=\"checkbox\" ><label for=\"sk-estimator-id-1\" class=\"sk-toggleable__label sk-toggleable__label-arrow\">RandomizedSearchCV</label><div class=\"sk-toggleable__content\"><pre>RandomizedSearchCV(cv=5, estimator=SVR(), n_iter=16,\n",
       "                   param_distributions={&#x27;C&#x27;: &lt;scipy.stats._distn_infrastructure.rv_continuous_frozen object at 0x000001F4451862B0&gt;,\n",
       "                                        &#x27;gamma&#x27;: &lt;scipy.stats._distn_infrastructure.rv_continuous_frozen object at 0x000001F44675C520&gt;,\n",
       "                                        &#x27;kernel&#x27;: [&#x27;linear&#x27;, &#x27;rbf&#x27;]},\n",
       "                   random_state=42, scoring=&#x27;neg_mean_squared_error&#x27;,\n",
       "                   verbose=3)</pre></div></div></div><div class=\"sk-parallel\"><div class=\"sk-parallel-item\"><div class=\"sk-item\"><div class=\"sk-label-container\"><div class=\"sk-label sk-toggleable\"><input class=\"sk-toggleable__control sk-hidden--visually\" id=\"sk-estimator-id-2\" type=\"checkbox\" ><label for=\"sk-estimator-id-2\" class=\"sk-toggleable__label sk-toggleable__label-arrow\">estimator: SVR</label><div class=\"sk-toggleable__content\"><pre>SVR()</pre></div></div></div><div class=\"sk-serial\"><div class=\"sk-item\"><div class=\"sk-estimator sk-toggleable\"><input class=\"sk-toggleable__control sk-hidden--visually\" id=\"sk-estimator-id-3\" type=\"checkbox\" ><label for=\"sk-estimator-id-3\" class=\"sk-toggleable__label sk-toggleable__label-arrow\">SVR</label><div class=\"sk-toggleable__content\"><pre>SVR()</pre></div></div></div></div></div></div></div></div></div></div>"
      ],
      "text/plain": [
       "RandomizedSearchCV(cv=5, estimator=SVR(), n_iter=16,\n",
       "                   param_distributions={'C': <scipy.stats._distn_infrastructure.rv_continuous_frozen object at 0x000001F4451862B0>,\n",
       "                                        'gamma': <scipy.stats._distn_infrastructure.rv_continuous_frozen object at 0x000001F44675C520>,\n",
       "                                        'kernel': ['linear', 'rbf']},\n",
       "                   random_state=42, scoring='neg_mean_squared_error',\n",
       "                   verbose=3)"
      ]
     },
     "execution_count": 17,
     "metadata": {},
     "output_type": "execute_result"
    }
   ],
   "source": [
    "## Search for the best\n",
    "\n",
    "rnd_search = RandomizedSearchCV(svr_mod, param_distributions=param_distribs,\n",
    "                               n_iter=16, cv=5, verbose=3, scoring='neg_mean_squared_error',\n",
    "                               random_state=42)\n",
    "rnd_search.fit(X_prepared, Y)"
   ]
  },
  {
   "cell_type": "markdown",
   "id": "f199ef33",
   "metadata": {},
   "source": [
    "#### => Took way less time than the `GridSearchCV` for the same number of fits."
   ]
  },
  {
   "cell_type": "code",
   "execution_count": 25,
   "id": "4b88802b",
   "metadata": {},
   "outputs": [
    {
     "data": {
      "text/plain": [
       "{'C': 157055.10989448498, 'gamma': 0.26497040005002437, 'kernel': 'rbf'}"
      ]
     },
     "execution_count": 25,
     "metadata": {},
     "output_type": "execute_result"
    }
   ],
   "source": [
    "## best params\n",
    "\n",
    "rnd_search.best_params_"
   ]
  },
  {
   "cell_type": "code",
   "execution_count": 20,
   "id": "65477fbf",
   "metadata": {},
   "outputs": [
    {
     "data": {
      "text/plain": [
       "55146.12657185085"
      ]
     },
     "execution_count": 20,
     "metadata": {},
     "output_type": "execute_result"
    }
   ],
   "source": [
    "## best score\n",
    "\n",
    "np.sqrt(-rnd_search.best_score_)"
   ]
  },
  {
   "cell_type": "markdown",
   "id": "ec7d9b97",
   "metadata": {},
   "source": [
    "#### => Now this is much closer to the performance of the RandomForestRegressor (but not quite there yet offcourse)."
   ]
  },
  {
   "cell_type": "code",
   "execution_count": 22,
   "id": "fa57bde6",
   "metadata": {},
   "outputs": [
    {
     "data": {
      "text/html": [
       "<style>#sk-container-id-2 {color: black;background-color: white;}#sk-container-id-2 pre{padding: 0;}#sk-container-id-2 div.sk-toggleable {background-color: white;}#sk-container-id-2 label.sk-toggleable__label {cursor: pointer;display: block;width: 100%;margin-bottom: 0;padding: 0.3em;box-sizing: border-box;text-align: center;}#sk-container-id-2 label.sk-toggleable__label-arrow:before {content: \"▸\";float: left;margin-right: 0.25em;color: #696969;}#sk-container-id-2 label.sk-toggleable__label-arrow:hover:before {color: black;}#sk-container-id-2 div.sk-estimator:hover label.sk-toggleable__label-arrow:before {color: black;}#sk-container-id-2 div.sk-toggleable__content {max-height: 0;max-width: 0;overflow: hidden;text-align: left;background-color: #f0f8ff;}#sk-container-id-2 div.sk-toggleable__content pre {margin: 0.2em;color: black;border-radius: 0.25em;background-color: #f0f8ff;}#sk-container-id-2 input.sk-toggleable__control:checked~div.sk-toggleable__content {max-height: 200px;max-width: 100%;overflow: auto;}#sk-container-id-2 input.sk-toggleable__control:checked~label.sk-toggleable__label-arrow:before {content: \"▾\";}#sk-container-id-2 div.sk-estimator input.sk-toggleable__control:checked~label.sk-toggleable__label {background-color: #d4ebff;}#sk-container-id-2 div.sk-label input.sk-toggleable__control:checked~label.sk-toggleable__label {background-color: #d4ebff;}#sk-container-id-2 input.sk-hidden--visually {border: 0;clip: rect(1px 1px 1px 1px);clip: rect(1px, 1px, 1px, 1px);height: 1px;margin: -1px;overflow: hidden;padding: 0;position: absolute;width: 1px;}#sk-container-id-2 div.sk-estimator {font-family: monospace;background-color: #f0f8ff;border: 1px dotted black;border-radius: 0.25em;box-sizing: border-box;margin-bottom: 0.5em;}#sk-container-id-2 div.sk-estimator:hover {background-color: #d4ebff;}#sk-container-id-2 div.sk-parallel-item::after {content: \"\";width: 100%;border-bottom: 1px solid gray;flex-grow: 1;}#sk-container-id-2 div.sk-label:hover label.sk-toggleable__label {background-color: #d4ebff;}#sk-container-id-2 div.sk-serial::before {content: \"\";position: absolute;border-left: 1px solid gray;box-sizing: border-box;top: 0;bottom: 0;left: 50%;z-index: 0;}#sk-container-id-2 div.sk-serial {display: flex;flex-direction: column;align-items: center;background-color: white;padding-right: 0.2em;padding-left: 0.2em;position: relative;}#sk-container-id-2 div.sk-item {position: relative;z-index: 1;}#sk-container-id-2 div.sk-parallel {display: flex;align-items: stretch;justify-content: center;background-color: white;position: relative;}#sk-container-id-2 div.sk-item::before, #sk-container-id-2 div.sk-parallel-item::before {content: \"\";position: absolute;border-left: 1px solid gray;box-sizing: border-box;top: 0;bottom: 0;left: 50%;z-index: -1;}#sk-container-id-2 div.sk-parallel-item {display: flex;flex-direction: column;z-index: 1;position: relative;background-color: white;}#sk-container-id-2 div.sk-parallel-item:first-child::after {align-self: flex-end;width: 50%;}#sk-container-id-2 div.sk-parallel-item:last-child::after {align-self: flex-start;width: 50%;}#sk-container-id-2 div.sk-parallel-item:only-child::after {width: 0;}#sk-container-id-2 div.sk-dashed-wrapped {border: 1px dashed gray;margin: 0 0.4em 0.5em 0.4em;box-sizing: border-box;padding-bottom: 0.4em;background-color: white;}#sk-container-id-2 div.sk-label label {font-family: monospace;font-weight: bold;display: inline-block;line-height: 1.2em;}#sk-container-id-2 div.sk-label-container {text-align: center;}#sk-container-id-2 div.sk-container {/* jupyter's `normalize.less` sets `[hidden] { display: none; }` but bootstrap.min.css set `[hidden] { display: none !important; }` so we also need the `!important` here to be able to override the default hidden behavior on the sphinx rendered scikit-learn.org. See: https://github.com/scikit-learn/scikit-learn/issues/21755 */display: inline-block !important;position: relative;}#sk-container-id-2 div.sk-text-repr-fallback {display: none;}</style><div id=\"sk-container-id-2\" class=\"sk-top-container\"><div class=\"sk-text-repr-fallback\"><pre>SVR(C=157055.10989448498, gamma=0.26497040005002437)</pre><b>In a Jupyter environment, please rerun this cell to show the HTML representation or trust the notebook. <br />On GitHub, the HTML representation is unable to render, please try loading this page with nbviewer.org.</b></div><div class=\"sk-container\" hidden><div class=\"sk-item\"><div class=\"sk-estimator sk-toggleable\"><input class=\"sk-toggleable__control sk-hidden--visually\" id=\"sk-estimator-id-4\" type=\"checkbox\" checked><label for=\"sk-estimator-id-4\" class=\"sk-toggleable__label sk-toggleable__label-arrow\">SVR</label><div class=\"sk-toggleable__content\"><pre>SVR(C=157055.10989448498, gamma=0.26497040005002437)</pre></div></div></div></div></div>"
      ],
      "text/plain": [
       "SVR(C=157055.10989448498, gamma=0.26497040005002437)"
      ]
     },
     "execution_count": 22,
     "metadata": {},
     "output_type": "execute_result"
    }
   ],
   "source": [
    "## best estimator\n",
    "\n",
    "final_mod = rnd_search.best_estimator_\n",
    "final_mod"
   ]
  },
  {
   "cell_type": "code",
   "execution_count": 29,
   "id": "b3e94b74",
   "metadata": {},
   "outputs": [
    {
     "data": {
      "text/plain": [
       "0.8255333908464693"
      ]
     },
     "execution_count": 29,
     "metadata": {},
     "output_type": "execute_result"
    }
   ],
   "source": [
    "## Accuracy of the best estimator (R-squared)\n",
    "\n",
    "final_mod.score(X_prepared, Y)"
   ]
  },
  {
   "cell_type": "markdown",
   "id": "593bd174",
   "metadata": {},
   "source": [
    "=> Pretty darn good!"
   ]
  },
  {
   "cell_type": "code",
   "execution_count": 24,
   "id": "80748f7b",
   "metadata": {},
   "outputs": [],
   "source": [
    "## saving the best mod\n",
    "import joblib\n",
    "\n",
    "models_dir = os.path.join('artifacts', 'models')\n",
    "os.makedirs(models_dir, exist_ok=True)\n",
    "\n",
    "joblib.dump(final_mod, open(\"svr_randomized.pkl\", \"wb\"))"
   ]
  },
  {
   "cell_type": "markdown",
   "id": "6e33d81d",
   "metadata": {},
   "source": [
    "### # Let's have a look at the exponential distribution we've used:\n",
    "\n",
    "expon(scale=1.0) that we used for hypertuning of `gamma` which palys a vital role in controllling the `rbf` kernel."
   ]
  },
  {
   "cell_type": "markdown",
   "id": "7014ae6c",
   "metadata": {},
   "source": [
    "#### In probability theory and statistics, a scale parameter is a special kind of numerical parameter of a parametric family of probability distributions. The larger the scale parameter, the more spread out the distribution."
   ]
  },
  {
   "cell_type": "code",
   "execution_count": 26,
   "id": "f3d8d5a2",
   "metadata": {},
   "outputs": [
    {
     "data": {
      "image/png": "[encoded data removed]",
      "text/plain": [
       "<Figure size 720x288 with 2 Axes>"
      ]
     },
     "metadata": {
      "needs_background": "light"
     },
     "output_type": "display_data"
    }
   ],
   "source": [
    "expon_distrib = expon(scale=1.)\n",
    "samples = expon_distrib.rvs(10000, random_state=42)\n",
    "plt.figure(figsize=(10, 4))\n",
    "plt.subplot(121)\n",
    "plt.title(\"Exponential distribution (scale=1.0)\")\n",
    "plt.hist(samples, bins=50)\n",
    "\n",
    "plt.subplot(122)\n",
    "plt.title(\"Log of this distribution\")\n",
    "plt.hist(np.log(samples), bins=50)\n",
    "plt.show()"
   ]
  },
  {
   "cell_type": "markdown",
   "id": "5d626119",
   "metadata": {},
   "source": [
    "=> Some samples are much larger or smaller than 1.0, but when we look at the log of the distribution, we can see that most values are actually concentrated roughly in the range of **exp(-2) to exp(+2)**, which is about 0.1 to 7.4."
   ]
  },
  {
   "cell_type": "markdown",
   "id": "15d0ab33",
   "metadata": {},
   "source": [
    "### # Having a look at the reciprocal distribution we've used:\n",
    " reciprocal(20, 200000) that we used for hypertuning of `C`(Regularization parameter)"
   ]
  },
  {
   "cell_type": "code",
   "execution_count": 28,
   "id": "9bae0043",
   "metadata": {},
   "outputs": [
    {
     "data": {
      "image/png": "[encoded data removed]",
      "text/plain": [
       "<Figure size 720x288 with 2 Axes>"
      ]
     },
     "metadata": {
      "needs_background": "light"
     },
     "output_type": "display_data"
    }
   ],
   "source": [
    "reciprocal_distrib = reciprocal(20, 200000)\n",
    "samples = reciprocal_distrib.rvs(10000, random_state=42)\n",
    "plt.figure(figsize=(10, 4))\n",
    "plt.subplot(121)\n",
    "plt.title(\"Reciprocal distribution (scale=1.0)\")\n",
    "plt.hist(samples, bins=50)\n",
    "\n",
    "plt.subplot(122)\n",
    "plt.title(\"Log of this distribution\")\n",
    "plt.hist(np.log(samples), bins=50)\n",
    "plt.show()"
   ]
  },
  {
   "cell_type": "markdown",
   "id": "5c2f6b57",
   "metadata": {},
   "source": [
    "=> The scale of the samples is picked from a uniform distribution within a given range, which is why the right graph, which represents the log of the samples, looks roughly constant. This distribution is useful when we don't have a clue of what the target scale is.\n",
    "\n",
    "**NOTE:** The reciprocal distribution is useful when we have no idea what the scale of the hyperparameter should be (indeed, as we can see on the figure on the right, all scales are equally likely, within the given range), whereas the exponential distribution is best when we know (more or less) what the scale of the hyperparameter should be."
   ]
  }
 ],
 "metadata": {
  "kernelspec": {
   "display_name": "Python 3",
   "language": "python",
   "name": "python3"
  },
  "language_info": {
   "codemirror_mode": {
    "name": "ipython",
    "version": 3
   },
   "file_extension": ".py",
   "mimetype": "text/x-python",
   "name": "python",
   "nbconvert_exporter": "python",
   "pygments_lexer": "ipython3",
   "version": "3.10.6 (main, Aug 12 2022, 18:00:29)  [GCC 12.1.0 64 bit (AMD64)]"
  },
  "vscode": {
   "interpreter": {
    "hash": "2a8dfe095fce2b5e88c64a2c3ee084c8e0e0d70b23e7b95b1cfb538be294c5c8"
   }
  }
 },
 "nbformat": 4,
 "nbformat_minor": 5
}
